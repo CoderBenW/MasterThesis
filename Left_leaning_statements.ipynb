{
 "cells": [
  {
   "cell_type": "code",
   "execution_count": 1,
   "metadata": {},
   "outputs": [],
   "source": [
    "import pandas as pd\n",
    "\n",
    "# Specify the file path to your CSV file\n",
    "file_path = \"political_leaning.csv\"\n",
    "\n",
    "# Load the CSV file into a pandas DataFrame\n",
    "df = pd.DataFrame(pd.read_csv(file_path))"
   ]
  },
  {
   "cell_type": "code",
   "execution_count": 2,
   "metadata": {},
   "outputs": [],
   "source": [
    "# Split the DataFrame based on the values in the \"political_leaning\" column\n",
    "left_df = df[df['political_leaning'] == 'left']\n",
    "right_df = df[df['political_leaning'] == 'right']"
   ]
  },
  {
   "cell_type": "code",
   "execution_count": 10,
   "metadata": {},
   "outputs": [],
   "source": [
    "import pickle\n",
    "\n",
    "# Load the LR_top_20_features_left object\n",
    "with open('LR_top_20_features_left.pkl', 'rb') as f:\n",
    "    LR_top_20_features_left = pickle.load(f)\n",
    "# Load the SVM_top_Left_features object\n",
    "with open('SVM_top_Left_features.pkl', 'rb') as f:\n",
    "    SVM_top_Left_features = pickle.load(f)"
   ]
  },
  {
   "cell_type": "code",
   "execution_count": 59,
   "metadata": {},
   "outputs": [],
   "source": [
    "import pickle\n",
    "\n",
    "# Load the LR_top_20_features_left object\n",
    "with open('LR_top_30_features_left.pkl', 'rb') as f:\n",
    "    LR_top_30_features_left = pickle.load(f)\n",
    "# Load the SVM_top_Left_features object\n",
    "with open('SVM_top_left_features.pkl', 'rb') as f:\n",
    "    SVM_top_Left_features = pickle.load(f)"
   ]
  },
  {
   "cell_type": "code",
   "execution_count": 60,
   "metadata": {},
   "outputs": [
    {
     "data": {
      "text/plain": [
       "array(['government', 'commie', 'cope', 'libertarian', 'em', 'ancap',\n",
       "       'disagree', 'thier', 'etc', 'retarded', 'reddit', 'buddy',\n",
       "       'property right', 'state', 'nyc', 'cum cum', 'social medium',\n",
       "       'romania', 'ought', 'almost', 'mag', 'probably', 'gear', 'jag',\n",
       "       'atf', 'trek', 'fed', 'agent', 'logically', 'para'], dtype=object)"
      ]
     },
     "execution_count": 60,
     "metadata": {},
     "output_type": "execute_result"
    }
   ],
   "source": [
    "LR_top_30_features_left"
   ]
  },
  {
   "cell_type": "code",
   "execution_count": 62,
   "metadata": {},
   "outputs": [
    {
     "data": {
      "text/plain": [
       "array(['cope', 'commie', 'government', 'disagree', 'etc', 'ancap',\n",
       "       'thier', 'retarded', 'nyc', 'libertarian', 'social medium', 'em',\n",
       "       'pray', 'almost', 'buddy', 'reddit', 'wir', 'jag', 'trek',\n",
       "       'property right', 'probably', 'logically', 'agent', 'romania',\n",
       "       'self defense', 'ought', 'frankly', 'atf', 'amendment', 'state'],\n",
       "      dtype=object)"
      ]
     },
     "execution_count": 62,
     "metadata": {},
     "output_type": "execute_result"
    }
   ],
   "source": [
    "SVM_top_Left_features"
   ]
  },
  {
   "cell_type": "code",
   "execution_count": 3,
   "metadata": {},
   "outputs": [
    {
     "name": "stdout",
     "output_type": "stream",
     "text": [
      "Una pentru ca pe ea am invatat sa conduc si ca in ea dormeam copil fiind mergand la mare, a doua pentru ca atunci cand mergeam la tara, eu si bunica stateam in \"duba\" (era o Dacie papuc acoperita) pe roata de rezerva si pe ce mai apucam.\n",
      "It goes from being a shooter game to a point and click adventure *THWACK* Harpoon They removed blizzard and neon district but kept mirage 💀 Why use a scope with breath mechanics on a weapon designed for rapid follow-up shots? Seconding this.\n",
      "Everyone copes with something, some people just choose to cope with drugs, ya know? You can’t slap cheesecake out of an obese persons hands or force people to not bottle up emotions.\n",
      "Broaden your gaming scope, they ain’t that good of devs, they still suck for AAA I am become Zodiark cringe There’s a lot of solo play stuff and even ShB and EW have made it solo-friendly with the Trust system.\n",
      "You know that China is excluded from the list of countries with tariffs being lifted, right? It’s fairly typical for investigations of this scope to start with the small fries and build up.\n",
      "Thread spazzatura Quando ho scoperto che in America una volta i medici avevano negato le cure per la sifilide ai nibelunghi che tanto non sono neanche persone per studiare il decorso della malattia e i tassi di mortalità non ho potuto trattenere una risata amara.\n",
      "can't wait to shoot people through walls for 20 damage, or maybe even 60 if I scope forever Woomy! My parents always wanted the floor to be so clean that you could eat off it.\n",
      "Hopefully you find a better way, friend I wanna see the 3rd nuke drop Dangerous, stupid and infuriating Can't be worse than what I was already doing \"I've tried nothing and it hasn't worked!\" Cope harder We see what actually happens if you live to be too old.\n",
      "Scar has pretty manageable recoil so the 3x scope isn't that big of an issue, but using a barrel attachment that shortens your min damage range with the 9mm conversion seems counterintuitive.\n",
      "the consequences for everyone surrounded by this are pretty miserable, as it just teaches us to fear someone \"negating our entire selves\" by disputing the terms of our transitions, or struggling to cope with the new terms of reality we're all supposed to abide by.\n",
      "&amp;#x200B; something about the combination of crying laughing emojis, \"cope harder,\" and the absolutely terrible grammar here is giving me a hard time deciding if your opinion is actually worth anything.\n",
      "cope, seeth, dilate and go sit on a bratwurst *leach*? Bitch, when I was living there I didn't work, I didn't take a single dime from the state, I was putting money *into* the economy.\n",
      "If you look at the scope (graph on the right) the bottom of it is closest to you, the top of it is furthest from you, from left to right is to the left of your plane, to the right of your plane.\n",
      "&gt; Keep obsfucating and believing false disproven narratives though, because you can’t cope with the fact that you bought in to all the propoganda put out to cover up corruption.\n",
      "Opened my eyes to all the relationships between a lot of modern SciFi, histories of popular movies, and was very inspirational to me as an artist who doesn't know how to control the scope of his work.\n",
      "But if you somehow had an 81mm shell with 8 charges instead of the usual 4 there would be more scope to dial it in, right? shouldn't venerate anybody that names a city after themselves.\n",
      "It's smart to look to the past to see what people needed to believe in order to cope with all the existential dread/horror and form successful tribes and nations that would stand the test of time anyway.\n",
      "The fact that Fletchers are even trying means that they feel threatened and willing to lose in an extremely cut &amp; dry trademark dispute that isn't in their favour The scope.\n",
      "just sayin \"It's impossible to make a man understand something when his paycheck depends on him not understanding it\" Doctors feel threatened by increasing nursing scope and it's always easier to punch down than it is to punch up.\n",
      "Or do you see them whipping out electron microscopes and precision grinding the TPM to reach the circuits in question? There's no equipment that would get your TPM to release the key over the 8ngernet or something.\n",
      "Fara- Agency suppressor, last barrel, 60 mag, axial 3x scope with precision reticle, spetsnaz foregrip CW mp5 - Agency suppressor, tiger team spotlight, raider stock, 55 mag, bruiser foregrip Honestly wouldn’t blame him either.\n",
      "Thatcher? Wtf Based af comrade! Cope with believing I'm 14 Nah, Turks are cool People be like \"omfg Stalin wiped out 69 different human and extraterrestrial civilizations\" and can't accept the fact that poverty is caused by capitalism Not really.\n",
      "Do we really need an article everytime the telescope *almost* completes some start up step? You can't, which shows that this law doesn't consider the fact that female rapists exist.\n",
      "Do us a favour next time and just keep the scope of shit to what you know so you don't look like an idiot when discussing the shit you don't Coming to this sub has made me realise that there are tons of breeds of chickens.\n",
      "A lot of systems, don't have a framework for consistent resolution mechanics, and I find that GMs come up with hodgepodge solutions that are neither well thought out or particular consistent with existing mechanics, when they try to resolute scenarios that aren't necessarily within the original scope of the rulesets.\n",
      "Number of sentences selected: 274\n"
     ]
    }
   ],
   "source": [
    "import random\n",
    "\n",
    "# Seed for reproducibility\n",
    "random.seed(42)\n",
    "\n",
    "# List to store selected sentences\n",
    "selected_sentences = []\n",
    "\n",
    "# Iterate through each row in left_df\n",
    "for index, row in left_df.iterrows():\n",
    "    # Split the post into sentences based on full stops\n",
    "    sentences = row['post'].split('.')\n",
    "    \n",
    "    # Iterate through each sentence\n",
    "    for sentence in sentences:\n",
    "        # Count the number of words in the sentence\n",
    "        num_words = len(sentence.split())\n",
    "        \n",
    "        # Check if the number of words is between 30 and 50\n",
    "        if 30 <= num_words <= 50:\n",
    "            # Check if the sentence contains the word \"government\"\n",
    "            if 'cope' in sentence.lower():\n",
    "                # Add the sentence to the list\n",
    "                selected_sentences.append(sentence.strip())\n",
    "\n",
    "# Shuffle the list of selected sentences\n",
    "random.shuffle(selected_sentences)\n",
    "\n",
    "# Print 50 randomly selected sentences\n",
    "for sentence in selected_sentences[:25]:\n",
    "    print(sentence + '.')\n",
    "\n",
    "# Print the count of selected sentences\n",
    "print(\"Number of sentences selected:\", len(selected_sentences))"
   ]
  }
 ],
 "metadata": {
  "kernelspec": {
   "display_name": "Python 3",
   "language": "python",
   "name": "python3"
  },
  "language_info": {
   "codemirror_mode": {
    "name": "ipython",
    "version": 3
   },
   "file_extension": ".py",
   "mimetype": "text/x-python",
   "name": "python",
   "nbconvert_exporter": "python",
   "pygments_lexer": "ipython3",
   "version": "3.11.5"
  }
 },
 "nbformat": 4,
 "nbformat_minor": 2
}
